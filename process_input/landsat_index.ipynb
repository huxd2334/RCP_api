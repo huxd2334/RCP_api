{
 "cells": [
  {
   "cell_type": "code",
   "id": "initial_id",
   "metadata": {
    "collapsed": true,
    "ExecuteTime": {
     "end_time": "2024-11-17T14:25:20.968747Z",
     "start_time": "2024-11-17T14:25:17.527936Z"
    }
   },
   "source": [
    "# Supress Warnings\n",
    "import warnings\n",
    "warnings.filterwarnings('ignore')\n",
    "\n",
    "# Import common GIS tools\n",
    "import numpy as np\n",
    "import xarray as xr\n",
    "# !pip install rasterio rioxarray\n",
    "import rasterio.features\n",
    "import rioxarray as rio\n",
    "\n",
    "# Import Planetary Computer tools\n",
    "import pystac_client\n",
    "import planetary_computer as pc\n",
    "import odc\n",
    "from odc.stac import stac_load\n",
    "from odc.algo import to_rgba\n",
    "from pystac.extensions.eo import EOExtension as eo\n",
    "\n",
    "pc.settings.set_subscription_key(\"st=2024-10-30T04%3A39%3A47Z&se=2024-10-31T05%3A24%3A47Z&sp=rl&sv=2024-05-04&sr=c&skoid=9c8ff44a-6a2c-4dfb-b298-1c9212f64d9a&sktid=72f988bf-86f1-41af-91ab-2d7cd011db47&skt=2024-10-31T01%3A20%3A26Z&ske=2024-11-07T01%3A20%3A26Z&sks=b&skv=2024-05-04&sig=yxW50NrgqfNEwh6gA5GpPmjbepQ0PP8d0LIG7B5GgAU%3D\")\n",
    "\n",
    "\n",
    "# Others\n",
    "import csv\n",
    "from datetime import datetime\n",
    "import pandas as pd"
   ],
   "outputs": [],
   "execution_count": 1
  },
  {
   "metadata": {},
   "cell_type": "markdown",
   "source": "Cloud Filtering and Masking",
   "id": "413efa86f6a0772c"
  },
  {
   "metadata": {
    "ExecuteTime": {
     "end_time": "2024-11-17T14:25:28.683637Z",
     "start_time": "2024-11-17T14:25:28.666144Z"
    }
   },
   "cell_type": "code",
   "source": [
    "# use the bit values of the 16-bit qa_pixel flag to mask the pixels and find clouds or water\n",
    "bit_flags = {\n",
    "            'fill': 1<<0,\n",
    "            'dilated_cloud': 1<<1,\n",
    "            'cirrus': 1<<2,\n",
    "            'cloud': 1<<3,\n",
    "            'shadow': 1<<4,\n",
    "            'snow': 1<<5,\n",
    "            'clear': 1<<6,\n",
    "            'water': 1<<7\n",
    "}\n",
    "\n",
    "# func: mask pixels with a give type:\n",
    "def get_flags_to_mask(mask, flags):\n",
    "   # Initialize a mask to store results with the same shape as the input mask\n",
    "  combine_flag_mask = np.zeros_like(mask, dtype=bool)\n",
    "  for flag in flags:\n",
    "    # Compute the mask for the current flag\n",
    "    current_flag_mask = np.bitwise_and(mask, bit_flags[flag])>0\n",
    "    # Combine the current flag mask with the overall result mask\n",
    "    combine_flag_mask = combine_flag_mask | current_flag_mask\n",
    "  return combine_flag_mask"
   ],
   "id": "fa50abfa0bbf8572",
   "outputs": [],
   "execution_count": 4
  },
  {
   "metadata": {
    "ExecuteTime": {
     "end_time": "2024-11-17T14:25:31.962706Z",
     "start_time": "2024-11-17T14:25:31.946578Z"
    }
   },
   "cell_type": "code",
   "source": [
    "# find window_size\n",
    "def find_window_size(season, date, file_csv, lat_str):\n",
    "    is_found_start_date = False\n",
    "    if season == \"SA\":\n",
    "        # Search for the harvest start date (only for SA season)\n",
    "        with open(file_csv, 'r') as file_csv:\n",
    "            csv_reader = csv.DictReader(file_csv)\n",
    "            for row in csv_reader:\n",
    "              if row[\"Latitude\"] == lat_str and row['Season(SA = Summer Autumn, WS = Winter Spring)'] == \"WS\":\n",
    "                  start_date = row['Date of Harvest']\n",
    "                  is_found_start_date = True\n",
    "                  break\n",
    "\n",
    "    date_obj = datetime.strptime(date, '%d-%m-%Y')\n",
    "    doh = date_obj.strftime('%Y-%m-%d')  # date of harvest\n",
    "    if season == \"SA\":\n",
    "        if is_found_start_date:\n",
    "            start_date_obj = pd.to_datetime(start_date, dayfirst=True)\n",
    "            new_start_date = start_date_obj.strftime('%Y-%m-%d')\n",
    "            window_size = f\"{max(new_start_date, '2022-04-01')}/{doh}\"\n",
    "        else:\n",
    "            window_size = f\"2022-04-01/{doh}\"\n",
    "    elif season == \"WS\":\n",
    "        window_size = f\"2021-11-01/{doh}\"\n",
    "    return window_size"
   ],
   "id": "de22d6f50ca23fc5",
   "outputs": [],
   "execution_count": 5
  },
  {
   "metadata": {
    "ExecuteTime": {
     "end_time": "2024-11-17T14:25:35.218039Z",
     "start_time": "2024-11-17T14:25:35.201643Z"
    }
   },
   "cell_type": "code",
   "source": [
    "def process_data(file_csv, longitude, latitude, season, date, box_deg=0.10):\n",
    "  catalog = pystac_client.Client.open(\"https://planetarycomputer.microsoft.com/api/stac/v1\")\n",
    "\n",
    "  lat_str = str(latitude)\n",
    "  window_size = find_window_size(season, date, file_csv, lat_str)\n",
    "\n",
    "  bbox = [\n",
    "      longitude-box_deg/2,\n",
    "      latitude-box_deg/2,\n",
    "      longitude+box_deg/2,\n",
    "      latitude+box_deg/2]\n",
    "\n",
    "  # Search for relevant satellite images from the catalog\n",
    "  search = catalog.search(\n",
    "      collections=[\"landsat-c2-l2\"],\n",
    "      bbox=bbox,\n",
    "      datetime=window_size,\n",
    "      query={\n",
    "          'eo:cloud_cover': {\"lt\": 10}, # 10% clould cover\n",
    "          'platform': {\"in\": [\"landsat-8\", \"landsat-9\"]},})\n",
    "  items = search.get_all_items()\n",
    "  if not items:\n",
    "        print(\"No images found.\")\n",
    "        return np.nan, np.nan, np.nan, np.nan\n",
    "\n",
    "  print(f\"Found {len(items)} images on {latitude}\")\n",
    "\n",
    "\n",
    "    # Select the image with the least cloud cover\n",
    "  selected_item = min(items, key=lambda item: eo.ext(item).cloud_cover)\n",
    "  bands_interest = ['red', 'nir08', 'qa_pixel', 'green', 'blue', 'swir16']\n",
    "\n",
    "  xx = stac_load(\n",
    "        [selected_item],\n",
    "        bands = bands_interest,\n",
    "        crs='EPSG:4326',\n",
    "        resolution=30/111320,\n",
    "        patch_url=pc.sign,\n",
    "        bbox=bbox,).isel(time=0)\n",
    "\n",
    "    # Apply scaling and offset for the bands (https://planetarycomputer.microsoft.com/dataset/landsat-c2-l2)\n",
    "  xx['red'] = xx['red']*0.0000275 - 0.2\n",
    "  xx['nir08'] = xx['nir08']*0.0000275 - 0.2\n",
    "  xx['green'] = xx['green']*0.0000275 - 0.2\n",
    "  xx['blue'] = xx['blue']*0.0000275 - 0.2\n",
    "  xx['swir16'] = xx['swir16']*0.0000275 - 0.2\n",
    "\n",
    "    # Mask invalid data\n",
    "  quality_mask = get_flags_to_mask(xx['qa_pixel'], ['fill', 'dilated_cloud', 'cirrus', 'cloud', 'shadow', 'water'])\n",
    "  masked_data = xx.where(~quality_mask)\n",
    "  clean_data = masked_data.mean(dim=['longitude', 'latitude']).compute()\n",
    "\n",
    "    # Cleaned bands\n",
    "  nir08 = clean_data.nir08.item()\n",
    "  red = clean_data.red.item()\n",
    "  green = clean_data.green.item()\n",
    "  blue = clean_data.blue.item()\n",
    "  swir16 = clean_data.swir16.item()\n",
    "\n",
    "    # calculate index\n",
    "  ndvi = (nir08 - red) / (nir08 + red)\n",
    "  ndwi = (green - swir16) / (green + swir16)\n",
    "  avi = np.power((nir08*(1-red)*(nir08 - red)), 1/3)\n",
    "  ndmi = (nir08 - swir16) / (nir08 + swir16)\n",
    "\n",
    "  return ndvi, ndwi, avi, ndmi"
   ],
   "id": "dc5e8298eca41f90",
   "outputs": [],
   "execution_count": 6
  },
  {
   "metadata": {
    "ExecuteTime": {
     "end_time": "2024-11-17T14:26:25.405573Z",
     "start_time": "2024-11-17T14:26:10.257928Z"
    }
   },
   "cell_type": "code",
   "source": [
    "ndvi, ndwi, avi, ndmi = process_data('../data/Crop_Yield_Data.csv',105.248554,10.510542, \"SA\", \"15-07-2022\"  )\n",
    "print(ndvi, ndwi, avi, ndmi)"
   ],
   "id": "7738f364eb4e7702",
   "outputs": [
    {
     "name": "stdout",
     "output_type": "stream",
     "text": [
      "Found 1 images on 10.510542\n",
      "0.6660664683945674 -0.34380810801863937 0.45145094534199015 0.33355161059081007\n"
     ]
    }
   ],
   "execution_count": 8
  }
 ],
 "metadata": {
  "kernelspec": {
   "display_name": "Python 3",
   "language": "python",
   "name": "python3"
  },
  "language_info": {
   "codemirror_mode": {
    "name": "ipython",
    "version": 2
   },
   "file_extension": ".py",
   "mimetype": "text/x-python",
   "name": "python",
   "nbconvert_exporter": "python",
   "pygments_lexer": "ipython2",
   "version": "2.7.6"
  }
 },
 "nbformat": 4,
 "nbformat_minor": 5
}
